{
 "cells": [
  {
   "cell_type": "markdown",
   "metadata": {},
   "source": [
    "Natural Language Processing is meant to help computers understand natural language.  \n",
    "These include texts, languages and voices.  \n",
    "\n",
    "**STEPS INVOLVED IN NLP**  \n",
    "I am interested in learning in Natural Language Processing, which is a subset of machine learning, which is a subset of Artificial Intelligence.\n",
    "\n",
    "1. Sentence Segmentation  \n",
    "This is breaking down the text into various sentences.  \n",
    "```python \n",
    "I am interested in learning in Natural Language Processing\n",
    "which is a subset of machine learning\n",
    "which is a subset of Artificial Intelligence.\n",
    "```\n",
    "\n",
    "2. Word Tokennization  \n",
    "This is breaking the sentence into individual words/tokens.  \n",
    "Even punctuations are regarded as tokrns.  \n",
    "`'I', 'am', 'interested' etc`  \n",
    "\n",
    "3. Predict Token Parts of Speech  \n",
    "You can use a part-of-speech classification model.  \n",
    "`I - pronoun etc`  \n",
    "\n",
    "4. Lemmatization  \n",
    "Feed model with the root word.  \n",
    "Eg `'play', 'playing', 'played'` to be considered as same meaning.  \n",
    "\n",
    "5. Stop Words Identification  \n",
    "Eg `'a', 'the', 'and'`  \n",
    "\n",
    "6. Find Meaning of Words  \n",
    "+ Dependency Parsing  \n",
    "Get the relationship between words.  \n",
    "Eg `Get relatinship between 'I', 'am' and 'interested'`  \n",
    "+ Finding Noun Phrase  \n",
    "Group words that mean same thing.  \n",
    "Eg `Natural Language Processing`  \n",
    "\n",
    "7. Named Entity Recognition(NER)  \n",
    "This maps words with tags.  \n",
    "```python\n",
    "Eastern Africa - Geographical Location  \n",
    "Microsoft - Company Name  \n",
    "Mr Matthews - Person Name\n",
    "October 26 - Date and Time  \n",
    "Christmas - Event\n",
    "```"
   ]
  }
 ],
 "metadata": {
  "language_info": {
   "name": "python"
  }
 },
 "nbformat": 4,
 "nbformat_minor": 2
}
