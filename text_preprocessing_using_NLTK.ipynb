{
 "cells": [
  {
   "cell_type": "markdown",
   "metadata": {},
   "source": [
    "We are using the Natural Language Toolkit NLTK library.  \n",
    "Text preprocessing is tha analysis of text data.  \n",
    "\n",
    "1. Import libraries  \n",
    "\n",
    "2. Text Lowercase    \n",
    "\n",
    "3. Remove numbers  \n",
    "\n",
    "4. Remove punctuation  \n"
   ]
  },
  {
   "cell_type": "markdown",
   "metadata": {},
   "source": [
    "##### IMPORT NECESSARY LIBRARIES\n",
    "nltk for text processing  \n",
    "string for string operations  \n",
    "re for regular expressions  "
   ]
  },
  {
   "cell_type": "code",
   "execution_count": 27,
   "metadata": {},
   "outputs": [],
   "source": [
    "# Import necessary libraries\n",
    "import nltk  # Natural Language Toolkit for text processing\n",
    "import string  # For string operations\n",
    "import re  # For regular expressions"
   ]
  },
  {
   "cell_type": "markdown",
   "metadata": {},
   "source": [
    "##### TEXT LOWERCASE  \n",
    "Convert the whole text to lower case.  \n",
    "This creates consistency in the data.  \n",
    "It also simplifies tokenization and enhances model efficiency.  "
   ]
  },
  {
   "cell_type": "code",
   "execution_count": 28,
   "metadata": {},
   "outputs": [
    {
     "data": {
      "text/plain": [
       "\"oh my god she has 10 cubes left! i can't believe it. i thought that she had 15 ??\""
      ]
     },
     "execution_count": 28,
     "metadata": {},
     "output_type": "execute_result"
    }
   ],
   "source": [
    "def text_lowercase(text):\n",
    "    return text.lower()\n",
    "\n",
    "input_str = \"Oh my God she has 10 cubes left! I can't believe it. I thought that she had 15 ??\";\n",
    "text_lowercase(input_str)\n"
   ]
  },
  {
   "cell_type": "markdown",
   "metadata": {},
   "source": [
    "##### REMOVE NUMBERS\n",
    "+ Remove the numbers completely.  \n",
    "This can be done using regular expressions.  \n",
    "\n",
    "+ Convert the numbers to words.  \n",
    "Eg 3 to three.  \n",
    "This can be done using the inflect library.  "
   ]
  },
  {
   "cell_type": "code",
   "execution_count": 29,
   "metadata": {},
   "outputs": [
    {
     "data": {
      "text/plain": [
       "\"Oh my God she has  cubes left! I can't believe it. I thought that she had  ??\""
      ]
     },
     "execution_count": 29,
     "metadata": {},
     "output_type": "execute_result"
    }
   ],
   "source": [
    "# Remove numbers\n",
    "def remove_numbers(text):\n",
    "    result = re.sub(r'\\d+', '', text)   #replace digits with empty string ''\n",
    "    return result\n",
    "\n",
    "remove_numbers(input_str)\n",
    "\n",
    "# \\d indicates digits 0-9\n",
    "# + indicates \"one or more occurrences\" eg '1', '3672'"
   ]
  },
  {
   "cell_type": "code",
   "execution_count": 30,
   "metadata": {},
   "outputs": [
    {
     "data": {
      "text/plain": [
       "\"Oh my God she has ten cubes left! I can't believe it. I thought that she had fifteen ??\""
      ]
     },
     "execution_count": 30,
     "metadata": {},
     "output_type": "execute_result"
    }
   ],
   "source": [
    "# import the inflect library\n",
    "import inflect\n",
    "\n",
    "#create engine object p, which provides access to the library's functions\n",
    "p = inflect.engine()\n",
    "\n",
    "def convert_number(text):\n",
    "    # split string into list of words/tokens\n",
    "    temp_str = text.split()\n",
    "    # initialise empty list\n",
    "    new_string = []\n",
    "\n",
    "    # loop through each word in temp_str\n",
    "    for word in temp_str:\n",
    "\n",
    "        if word.isdigit():\n",
    "            temp = p.number_to_words(word)\n",
    "            new_string.append(temp)\n",
    "\n",
    "        else:\n",
    "            new_string.append(word)\n",
    "\n",
    "    # join all words of new_string to form one string separated by spaces\n",
    "    temp_str = ' '.join(new_string)\n",
    "    return temp_str\n",
    "\n",
    "convert_number(input_str)"
   ]
  }
 ],
 "metadata": {
  "kernelspec": {
   "display_name": ".venv",
   "language": "python",
   "name": "python3"
  },
  "language_info": {
   "codemirror_mode": {
    "name": "ipython",
    "version": 3
   },
   "file_extension": ".py",
   "mimetype": "text/x-python",
   "name": "python",
   "nbconvert_exporter": "python",
   "pygments_lexer": "ipython3",
   "version": "3.12.3"
  }
 },
 "nbformat": 4,
 "nbformat_minor": 2
}
