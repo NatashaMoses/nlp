{
 "cells": [
  {
   "cell_type": "markdown",
   "metadata": {},
   "source": [
    "##### TYEPS OF LEMMATIZATION\n",
    "Lemmatization is preffered to stemming as it does morphological analysis of words.  \n",
    "It links words with similar meaning to one word.   \n",
    "Difference with stemming is it takes a part of speech parameter, “pos”.   \n",
    "If not supplied, the default is “noun”.   \n",
    "\n",
    "+ RULE-BASED LEMMATIZATION  \n",
    "Relies on linguistic rules and patterns.  \n",
    "Eg removing the suffix \"ing\" such as walking - walk.  \n",
    "\n",
    "+ DICTIONARY-BASED LEMMATIZATION  \n",
    "Relies on predefined dictionaries or tables to map words to their corresponding base forms or lemmas.  \n",
    "Each word is matched against its entity in the dictionary.  \n",
    "\n",
    "+ MACHINE LEARNING-BASED LEMMATIZATION  \n",
    "Relies on computational models to automatically learn the relationships between words and their base forms.  "
   ]
  },
  {
   "cell_type": "code",
   "execution_count": 1,
   "metadata": {},
   "outputs": [
    {
     "name": "stdout",
     "output_type": "stream",
     "text": [
      "rocks : rock\n",
      "corpora : corpus\n",
      "better : good\n"
     ]
    }
   ],
   "source": [
    "# import these modules\n",
    "from nltk.stem import WordNetLemmatizer\n",
    "\n",
    "lemmatizer = WordNetLemmatizer()\n",
    "\n",
    "print(\"rocks :\", lemmatizer.lemmatize(\"rocks\"))\n",
    "print(\"corpora :\", lemmatizer.lemmatize(\"corpora\"))\n",
    "\n",
    "# a denotes adjective in \"pos\"\n",
    "print(\"better :\", lemmatizer.lemmatize(\"better\", pos=\"a\"))\n"
   ]
  },
  {
   "cell_type": "code",
   "execution_count": 9,
   "metadata": {},
   "outputs": [
    {
     "name": "stdout",
     "output_type": "stream",
     "text": [
      "The\n",
      "quick\n",
      "brown\n",
      "fox\n",
      "are\n",
      "jumping\n",
      "over\n",
      "the\n",
      "lazy\n",
      "dog\n",
      ".\n"
     ]
    }
   ],
   "source": [
    "from nltk.tokenize import word_tokenize\n",
    "\n",
    "sentence = \"The quick brown foxes are jumping over the lazy dogs.\"\n",
    "sentence = word_tokenize(sentence)\n",
    "\n",
    "for w in sentence:\n",
    "    print(lemmatizer.lemmatize(w))"
   ]
  }
 ],
 "metadata": {
  "kernelspec": {
   "display_name": ".venv",
   "language": "python",
   "name": "python3"
  },
  "language_info": {
   "codemirror_mode": {
    "name": "ipython",
    "version": 3
   },
   "file_extension": ".py",
   "mimetype": "text/x-python",
   "name": "python",
   "nbconvert_exporter": "python",
   "pygments_lexer": "ipython3",
   "version": "3.12.3"
  }
 },
 "nbformat": 4,
 "nbformat_minor": 2
}
